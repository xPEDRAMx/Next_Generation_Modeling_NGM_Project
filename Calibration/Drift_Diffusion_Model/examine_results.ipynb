{
 "cells": [
  {
   "cell_type": "code",
   "execution_count": 2,
   "id": "e49266eb-809d-4647-a421-1183a995e457",
   "metadata": {},
   "outputs": [],
   "source": [
    "import os\n",
    "import pickle\n",
    "import numpy as np\n"
   ]
  },
  {
   "cell_type": "code",
   "execution_count": 3,
   "id": "935ec58f-ea29-40ca-9d31-ba708ed33937",
   "metadata": {},
   "outputs": [],
   "source": [
    "result_dir=\"progress/\""
   ]
  },
  {
   "cell_type": "code",
   "execution_count": 3,
   "id": "27ca187a-80e5-4b80-8bdc-92878cbbd633",
   "metadata": {},
   "outputs": [],
   "source": [
    "fnames=os.listdir(result_dir)"
   ]
  },
  {
   "cell_type": "code",
   "execution_count": 4,
   "id": "7fae1566-c800-4e12-8ae8-b12ca056a345",
   "metadata": {},
   "outputs": [],
   "source": [
    "# range of indices and geenerations\n",
    "all_inds = np.arange(0,50)\n",
    "all_gens = np.arange(0,251)"
   ]
  },
  {
   "cell_type": "code",
   "execution_count": null,
   "id": "4623faab-232b-443d-b83f-8b5f5a860a47",
   "metadata": {},
   "outputs": [],
   "source": [
    "all_lls=[]\n",
    "all_params=[]\n",
    "\n",
    "for gen in all_gens:\n",
    "    for ind in all_inds:\n",
    "        with open(result_dir+\"gen\"+str(gen)+\"ind\"+str(ind)+\".pkl\", \"rb\") as f:\n",
    "            data=pickle.load(f)\n",
    "            if len(data[0])!=0:\n",
    "                all_lls.append(data[0][0])\n",
    "                all_params.append(data[1][0])\n",
    "            "
   ]
  },
  {
   "cell_type": "code",
   "execution_count": 12,
   "id": "189a42a1-b0dd-42bc-af39-ab23592134df",
   "metadata": {},
   "outputs": [],
   "source": [
    "min_ll=min(all_lls)\n",
    "best_params=all_params[np.where(np.array(all_lls)==min_ll)[0][0]]"
   ]
  },
  {
   "cell_type": "code",
   "execution_count": 19,
   "id": "949fcdcb-839d-4a28-b127-bda0f7680f11",
   "metadata": {},
   "outputs": [
    {
     "name": "stdout",
     "output_type": "stream",
     "text": [
      "beta_L_mean -2.815043483655327\n",
      "beta_R_mean -4.0939448036870605\n",
      "beta_G_mean 0.27370674579445503\n",
      "beta_V_mean 0.6807612664550124\n",
      "beta_MLC_mean 2.3622172741015093\n",
      "G0_mean 8.697563264505757\n",
      "sigma 8.458314165699115\n",
      "alpha_mean 9.083636153983395\n",
      "std_beta_L 0.1450293022255983\n",
      "std_beta_R 0.20074385407399475\n",
      "std_beta_G 0.001912737625687777\n",
      "std_beta_V 0.1346994132692947\n",
      "std_beta_MLC 0.5069925364811351\n",
      "std_G0 0.21071425094990492\n",
      "std_alpha 0.8457143250903432\n",
      "cov_beta_G_beta_V 0.1951103162435323\n",
      "cov_beta_G_alpha 0.2935938307966317\n",
      "cov_beta_V_alpha 0.9633232267010474\n"
     ]
    }
   ],
   "source": [
    "# print the best parameters\n",
    "var_names = [\"beta_L_mean\", \"beta_R_mean\", \"beta_G_mean\", \"beta_V_mean\", \"beta_MLC_mean\", \"G0_mean\", \"sigma\", \"alpha_mean\", \"std_beta_L\", \"std_beta_R\", \"std_beta_G\", \"std_beta_V\", \"std_beta_MLC\", \"std_G0\", \"std_alpha\", \"cov_beta_G_beta_V\", \"cov_beta_G_alpha\", \"cov_beta_V_alpha\"]\n",
    "for i in range(len(var_names)):\n",
    "    print(var_names[i], best_params[i])"
   ]
  }
 ],
 "metadata": {
  "kernelspec": {
   "display_name": "Python 3 (ipykernel)",
   "language": "python",
   "name": "python3"
  },
  "language_info": {
   "codemirror_mode": {
    "name": "ipython",
    "version": 3
   },
   "file_extension": ".py",
   "mimetype": "text/x-python",
   "name": "python",
   "nbconvert_exporter": "python",
   "pygments_lexer": "ipython3",
   "version": "3.12.3"
  }
 },
 "nbformat": 4,
 "nbformat_minor": 5
}
